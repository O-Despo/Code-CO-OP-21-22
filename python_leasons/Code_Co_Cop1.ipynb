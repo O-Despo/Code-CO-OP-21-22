{
  "nbformat": 4,
  "nbformat_minor": 0,
  "metadata": {
    "colab": {
      "name": "Code-Co-Cop1.ipynb",
      "provenance": [],
      "collapsed_sections": []
    },
    "kernelspec": {
      "name": "python3",
      "display_name": "Python 3"
    }
  },
  "cells": [
    {
      "cell_type": "code",
      "metadata": {
        "id": "jf5GbMA-tjEM",
        "colab": {
          "base_uri": "https://localhost:8080/",
          "height": 35
        },
        "outputId": "046715ca-688c-40ef-ba12-02018dbb388f"
      },
      "source": [
        "print(\"Hello World!\")"
      ],
      "execution_count": null,
      "outputs": [
        {
          "output_type": "stream",
          "text": [
            "Hello World!\n"
          ],
          "name": "stdout"
        }
      ]
    },
    {
      "cell_type": "markdown",
      "metadata": {
        "id": "xe14ZhTAtm9x"
      },
      "source": [
        "# Python \n",
        "\n",
        "\n",
        "---\n",
        "\n",
        "Data types \n",
        "\n",
        "Difrent forms that data take\n",
        "\n",
        "\n",
        "```\n",
        "string =  \"a string of letters\"\n",
        "int = 4\n",
        "int = 3.45\n",
        "list = [1, 34, 'hi']\n",
        "dictionary = {'key': value, 'key2': value2}\n",
        "```\n",
        "\n",
        "###intgers: any number\n",
        "\n",
        "```\n",
        "int = 4453\n",
        "```\n",
        "\n",
        "###float: any number with a decimil \n",
        "\n",
        "```\n",
        "int = 45.343\n",
        "```\n",
        "\n",
        "###complex: any complex number\n",
        "\n",
        "```\n",
        "complex = 1e\n",
        "```\n",
        "\n",
        "###string: letter or number that is a stream\n",
        "\n",
        "```\n",
        "string = 'this is a string'\n",
        "string = \"this is also a string\"\n",
        "string = \"D'Esposito 1 is also a string\"\n",
        "```\n",
        "\n",
        "Note: By the end of this ordeal string is equal to \"D'Esposito 1 is also a string\"\n",
        "\n",
        "###lists: a orderd list of variables \n",
        "\n",
        "\n",
        "```\n",
        "list = [x, y, z]\n",
        "```\n",
        "\n",
        "###tuple: a list that cant be changed \n",
        "\n",
        "```\n",
        "tuple = (4, 5)\n",
        "tuple = (1, )\n",
        "```\n",
        "\n",
        "Note: the asingn a single value to a tuple you still need a comma however a \n",
        "constant would do the same\n",
        "\n",
        "###Dictionary: a unorderd key pair list thing \n",
        "\n",
        "```\n",
        "dict = {'key1': 34, 1: 'string', 'key3': 3}\n",
        "strange_dict = {'key1': 43, 34: ['this', 'is', 'posible']}\n",
        "```\n",
        "\n",
        "###Set: unorderd collections of unique elements \n",
        "```\n",
        "set = (('hi', 'this', 'cant', 'have', 'repeats'))\n",
        "```\n",
        "We wont talk about bytes \n"
      ]
    },
    {
      "cell_type": "markdown",
      "metadata": {
        "id": "n3GJyRMZtENp"
      },
      "source": [
        "\n",
        "#**Lists: A collection of items with order**\n",
        "\n",
        "ex.\n",
        "```\n",
        "list = [1, 3, 4]\n",
        "```\n",
        "Getting a value at a list index\n",
        "indexs start at 0\n",
        "\n"
      ]
    },
    {
      "cell_type": "code",
      "metadata": {
        "id": "LoeKpqRSvp_w",
        "colab": {
          "base_uri": "https://localhost:8080/",
          "height": 35
        },
        "outputId": "b5d8f7ec-b442-48d0-83f7-12693f01801d"
      },
      "source": [
        "list = ['random', 'words', 'here']\n",
        "print(list)"
      ],
      "execution_count": null,
      "outputs": [
        {
          "output_type": "stream",
          "text": [
            "words\n"
          ],
          "name": "stdout"
        }
      ]
    },
    {
      "cell_type": "markdown",
      "metadata": {
        "id": "_4YBu7xmjB-9"
      },
      "source": [
        "##Accsessing Elements\n",
        "use a index of the list ot acsess a element  \n",
        "Notice that the index starts at 0 not 1 so 1 is the secound element "
      ]
    },
    {
      "cell_type": "code",
      "metadata": {
        "id": "eTCHMmyQjR0C",
        "colab": {
          "base_uri": "https://localhost:8080/",
          "height": 35
        },
        "outputId": "436dd75c-f2a0-45d8-caa0-1514dcb3df06"
      },
      "source": [
        "print(list[1])"
      ],
      "execution_count": null,
      "outputs": [
        {
          "output_type": "stream",
          "text": [
            "words\n"
          ],
          "name": "stdout"
        }
      ]
    },
    {
      "cell_type": "markdown",
      "metadata": {
        "id": "oHnrKopIkDj5"
      },
      "source": [
        "##Adding Modifying and Removing \n",
        "If you are using a list you will want to change it at one point \n"
      ]
    },
    {
      "cell_type": "markdown",
      "metadata": {
        "id": "LbUGvrLrwj9p"
      },
      "source": [
        "###Modifying\n",
        "```\n",
        "list = [3, 4, 5]\n",
        "list[2] = 67\n",
        "````\n",
        "the list is now comprised of [3, 4, 67]"
      ]
    },
    {
      "cell_type": "code",
      "metadata": {
        "id": "TRgDXmTLw15F",
        "colab": {
          "base_uri": "https://localhost:8080/",
          "height": 35
        },
        "outputId": "eae8cb42-1e00-40b0-aac7-756b0ef40177"
      },
      "source": [
        "list = [1, 45, 3, 65]\n",
        "list[1] = 34\n",
        "print(list)"
      ],
      "execution_count": null,
      "outputs": [
        {
          "output_type": "stream",
          "text": [
            "[1, 34, 3, 65]\n"
          ],
          "name": "stdout"
        }
      ]
    },
    {
      "cell_type": "markdown",
      "metadata": {
        "id": "VG0LPMgawobr"
      },
      "source": [
        "###Adding\n",
        "To addd a element to the end of a list use the ```.append()``` method \n",
        "\n",
        "```\n",
        "list = [3, 4, 5]\n",
        "list.append(45)\n",
        "````\n",
        "the list is now comprised of [3, 4, 5, 45]\n",
        "\n",
        "\n",
        "You can also insert a element at a specific index with the ```.insert()```\n",
        "method\n",
        "\n",
        "```\n",
        "list = ['r', 'q', 'c']\n",
        "list.inset(1, 'w')\n",
        "```"
      ]
    },
    {
      "cell_type": "code",
      "metadata": {
        "id": "Crwf_7t2w-8A",
        "colab": {
          "base_uri": "https://localhost:8080/",
          "height": 90
        },
        "outputId": "25439c74-2173-4c58-a2ba-e29f176f4902"
      },
      "source": [
        "list = [3, 4, 5]\n",
        "list.append(45)\n",
        "print(f'using append the list is \\n %s' %list)\n",
        "\n",
        "list = [3, 4, 5]\n",
        "list.insert(0, 765)\n",
        "print(f'using insert the list is \\n %s' %list)"
      ],
      "execution_count": null,
      "outputs": [
        {
          "output_type": "stream",
          "text": [
            "using append the list is \n",
            " [3, 4, 5, 45]\n",
            "using insert the list is \n",
            " [765, 3, 4, 5]\n"
          ],
          "name": "stdout"
        }
      ]
    },
    {
      "cell_type": "markdown",
      "metadata": {
        "id": "GxO5HjeKwsKF"
      },
      "source": [
        "###Removing \n",
        "\n",
        "fist of there is the delete statement \n",
        "\n",
        "```\n",
        "list = [2, 4, 3]\n",
        "del list[1]\n",
        "```\n",
        "the list is now ```[2, 3]```\n",
        "\n",
        "or if you want to keep using the value then the ```.pop()```` method is available \n",
        "```\n",
        "list = [2, 4, 3]\n",
        "element = list.pop(1)\n",
        "```\n",
        "element is now ```4```"
      ]
    },
    {
      "cell_type": "code",
      "metadata": {
        "id": "ptWwKUdw0RwK"
      },
      "source": [
        "list = ['ham', 'bread', 'icecream']\n",
        "\n",
        "del list[0]\n",
        "print(f'the list is %s after del' %list)\n",
        " \n",
        "list = ['ham', 'bread', 'icecream', 'milkshake', 'lttstore.com']\n",
        "\n",
        "some_val = list.pop()\n",
        "pop_from_index = list.pop(1)\n",
        "\n",
        "print(f'the pop methoud gave us the var {some_val} and the index pop gave'\n",
        "      '{pop_from_index} the list is now {list}')"
      ],
      "execution_count": null,
      "outputs": []
    },
    {
      "cell_type": "markdown",
      "metadata": {
        "id": "TA7cm0xf0m-E"
      },
      "source": [
        "##Sorting\n",
        "\n",
        "you can sort a list with the sorted() funtion \n"
      ]
    },
    {
      "cell_type": "code",
      "metadata": {
        "id": "z2FwWeYU01A2",
        "colab": {
          "base_uri": "https://localhost:8080/",
          "height": 54
        },
        "outputId": "94e69980-0c9d-40b1-84b6-0b7afa02890c"
      },
      "source": [
        "cars_companys = ['bmw', 'audi', 'toyota', 'subaru']\n",
        "\n",
        "print(f'unsorted = {cars_companys}\\n  sorted = {sorted(cars_companys)}')"
      ],
      "execution_count": null,
      "outputs": [
        {
          "output_type": "stream",
          "text": [
            "unsorted = ['bmw', 'audi', 'toyota', 'subaru']\n",
            "  sorted = ['audi', 'bmw', 'subaru', 'toyota']\n"
          ],
          "name": "stdout"
        }
      ]
    },
    {
      "cell_type": "markdown",
      "metadata": {
        "id": "w0wIpHcS3n09"
      },
      "source": [
        "##Sections \n",
        "\n",
        "You can get a slice of a list "
      ]
    },
    {
      "cell_type": "code",
      "metadata": {
        "id": "1rcJAGYT3uh_"
      },
      "source": [
        "things_oliver_is = ['cool', 'handsome', 'funnny', 'egotistical', 'tall', 'nerd']"
      ],
      "execution_count": null,
      "outputs": []
    },
    {
      "cell_type": "markdown",
      "metadata": {
        "id": "vdGzLWKo4ICv"
      },
      "source": [
        "lets say you only want to work with the true statments "
      ]
    },
    {
      "cell_type": "code",
      "metadata": {
        "id": "tPhNmzxv4NEA",
        "colab": {
          "base_uri": "https://localhost:8080/",
          "height": 35
        },
        "outputId": "fea43f7e-4ac9-40d9-f9ed-2f7b515e3cc5"
      },
      "source": [
        "true = things_oliver_is[3:]\n",
        "print(true)"
      ],
      "execution_count": null,
      "outputs": [
        {
          "output_type": "stream",
          "text": [
            "['egotistical', 'tall', 'nerd']\n"
          ],
          "name": "stdout"
        }
      ]
    },
    {
      "cell_type": "markdown",
      "metadata": {
        "id": "Wdk4fwt94nw5"
      },
      "source": [
        "##Tuples\n",
        "\n",
        "A list you cant change"
      ]
    },
    {
      "cell_type": "code",
      "metadata": {
        "id": "dfuMgNcR4tGx"
      },
      "source": [
        "my_cool_tuple = (3, 45, 'revilo')"
      ],
      "execution_count": null,
      "outputs": []
    },
    {
      "cell_type": "markdown",
      "metadata": {
        "id": "TlXAy-Bg1nBf"
      },
      "source": [
        "#**Range Function/Looping**"
      ]
    },
    {
      "cell_type": "markdown",
      "metadata": {
        "id": "mesd2qpx1ub9"
      },
      "source": [
        "The range funtion is very usefull it make a list of numbers from a range p.s. \n",
        "a range is a data type"
      ]
    },
    {
      "cell_type": "code",
      "metadata": {
        "id": "sge89F4i12HK",
        "colab": {
          "base_uri": "https://localhost:8080/",
          "height": 35
        },
        "outputId": "a2ec265a-fe3c-4ebc-b02a-6eea6d94a81c"
      },
      "source": [
        "my_range = range(1, 10)\n",
        "print(my_range)"
      ],
      "execution_count": null,
      "outputs": [
        {
          "output_type": "stream",
          "text": [
            "range(1, 10)\n"
          ],
          "name": "stdout"
        }
      ]
    },
    {
      "cell_type": "markdown",
      "metadata": {
        "id": "_xJQOjFc2Mvr"
      },
      "source": [
        "You can use for loops to do somthing to each element of the range"
      ]
    },
    {
      "cell_type": "code",
      "metadata": {
        "id": "RzUQKgXl2WRe",
        "colab": {
          "base_uri": "https://localhost:8080/",
          "height": 182
        },
        "outputId": "84450f7a-3427-4354-e4e8-f4696c1a2e57"
      },
      "source": [
        "for x in my_range:\n",
        "  print(f\"Oliver is the best and x this is {x}\")"
      ],
      "execution_count": null,
      "outputs": [
        {
          "output_type": "stream",
          "text": [
            "Oliver is the best and this is 1\n",
            "Oliver is the best and this is 2\n",
            "Oliver is the best and this is 3\n",
            "Oliver is the best and this is 4\n",
            "Oliver is the best and this is 5\n",
            "Oliver is the best and this is 6\n",
            "Oliver is the best and this is 7\n",
            "Oliver is the best and this is 8\n",
            "Oliver is the best and this is 9\n"
          ],
          "name": "stdout"
        }
      ]
    },
    {
      "cell_type": "markdown",
      "metadata": {
        "id": "cSGjfuOH2ise"
      },
      "source": [
        "Lest make a list from a rage (restart runtime)"
      ]
    },
    {
      "cell_type": "code",
      "metadata": {
        "id": "hqDhcpug2nWw",
        "colab": {
          "base_uri": "https://localhost:8080/",
          "height": 35
        },
        "outputId": "104a4ac5-4386-4112-f64e-c0333213c1b4"
      },
      "source": [
        "numbers = list(range(1, 6))\n",
        "print(numbers)"
      ],
      "execution_count": null,
      "outputs": [
        {
          "output_type": "stream",
          "text": [
            "[1, 2, 3, 4, 5]\n"
          ],
          "name": "stdout"
        }
      ]
    },
    {
      "cell_type": "markdown",
      "metadata": {
        "id": "DjgB3cYTLlx7"
      },
      "source": [
        "#**Functions**\n",
        "\n",
        "you can make a funtion then call it later "
      ]
    },
    {
      "cell_type": "code",
      "metadata": {
        "id": "TKiYbM1tNJ21"
      },
      "source": [
        "def print_hello_world():\n",
        "  print('hello world')"
      ],
      "execution_count": null,
      "outputs": []
    },
    {
      "cell_type": "code",
      "metadata": {
        "id": "-7qaYXMGNRIw",
        "colab": {
          "base_uri": "https://localhost:8080/",
          "height": 35
        },
        "outputId": "5891faa3-3013-4509-e040-3304319f5b6d"
      },
      "source": [
        "print_hello_world()"
      ],
      "execution_count": null,
      "outputs": [
        {
          "output_type": "stream",
          "text": [
            "hello world\n"
          ],
          "name": "stdout"
        }
      ]
    }
  ]
}